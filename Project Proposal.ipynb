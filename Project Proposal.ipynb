{
 "cells": [
  {
   "cell_type": "markdown",
   "source": [
    "# LEGO Brick Recognition\n",
    "## Team Member\n",
    "Kaan Can 090190311\n",
    "## Dataset\n",
    "B200C LEGO Classification Dataset: [Dataset](https://www.kaggle.com/datasets/ronanpickell/b200c-lego-classification-dataset) (1.19GB)\n",
    "These images are in context, meaning objects are set in environments with random floor textures, random lighting conditions, and each image has the possibility of containing other LEGO parts, with occasional obstruction. This creates the opportunity to train an extremely robust model that is exposed to realistic expectations.\n",
    "\n",
    "FEATURES\n",
    "✔ 200 Most Popular LEGO Parts\n",
    "✔ 4,000 Images Per LEGO Part\n",
    "✔ 800,000 Total Images\n",
    "✔ 64x64 RGB Images\n",
    "✔ In Context Images\n",
    "\n",
    "## Description of the Problem\n",
    "By using this visual data, it is aimed to develop a model that predicts the name and color of any LEGO piece that we will load into the computer (if it is one of the 200 pieces in the data). The fact that the pieces are on random ground textures, under random lighting conditions, in random colors, and the possibility of containing other LEGO pieces with occasional obstacles, increases the complexity of this visual dataset, making it difficult to make sense of. Therefore, developing a useful model for such a complex structure would be a good software challenge. I would like to be able to test how efficiently the model works in real life with the LEGO photos I will take at the end of the project. Maybe if I want to develop a system that sorts out the LEGO pieces in my room, I can have a ready-made sorting algorithm that I can use thanks to this study.\n",
    "## Project Planning\n",
    "### Project Pieces\n",
    "First of all, the images in the dataset should be labeled and classified. The [catalog](https://www.bricklink.com/catalogTree.asp?itemType=P) will be used, which contains the name of each LEGO piece. After that, each LEGO piece in each image should develop a model that will remove noise by separating it from the background. Here, the randomness of the background and other foreign elements entering the photo frame make model development difficult, but it has the potential to help give more successful results in daily life. The fact that each piece in the data set has many color combinations indicates that it should work with a model independent of color tonnage in determining the shadows and therefore the main lines in the piece. Since it will be very difficult to make sense of such a complex dataset manually, it is planned to benefit from tools such as [TensorFlow](https://www.tensorflow.org/) and machine learning methods in areas where it is needed. While developing these models, not all of the data will be used, and some will be stored separately to test the accuracy of the results. Depending on the results, these steps will be repeated to try different methods. Finally, it is aimed to create an application that recognizes LEGO bricks. Of course, the literature review will always continue while developing a model. New methods can be discovered throughout the process, the dataset will be enriched with new data if necessary, and it may even be possible for us to produce parts of this data ourselves with the three-dimensional models that [LDraw](https://www.ldraw.org/) has.\n",
    "### Hardware and Software\n",
    "\n",
    "   **Hardware**\n",
    "   * RAM = 16GB 2933MHz DDR4\n",
    "   * CPU = Intel(R) Core(TM) i7-10750H 2.60GHz 6 core\n",
    "   * GPU = NVIDIA GeForce RTX 2060 (2020) 1005MHz GDDR6 6GB\n",
    "   * SSD = NVMe M.2 (PCIe) (100GB Aviable to use for project)\n",
    "\n",
    "   **Software**\n",
    "   * [JupyterNotebook](https://jupyter.org/)\n",
    "   * [DataSpell](https://www.jetbrains.com/dataspell/)\n",
    "   * [Python 3](https://www.python.org/)\n",
    "   * [TensorFlow](https://www.tensorflow.org/)\n",
    "   * [LDraw](https://www.ldraw.org/)\n",
    "   * [Mecabricks](https://www.mecabricks.com/)\n",
    "   * [Blender](https://www.blender.org/)\n",
    "(optional)\n",
    "\n",
    "### Calendar\n",
    "\n",
    "| Weeks/Days | Monday                           | Tuesday | Wednesday | Thursday | Friday | Saturday | Sunday |\n",
    "|------------|----------------------------------|-------|-----------|----------|--------|----------|--------|\n",
    "| 8th week   | Apr11 Project Proposal Submition | MID   | MID       | MID      | MID    | MID      | MID    |\n",
    "| 9th week   | MID                              | MID   | MID       | MID      | HOM    | HOM      | HOM    |\n",
    "| 10th week  | Apr25 Homework 3 Submition       | LIT   | LIT       | LIT      | LIT    | LIT      | LIT    |\n",
    "| 11th week  | LAB                              | LAB   | LAB       | NOI      | NOI    | NOI      | NOI    |\n",
    "| 12th week  | NOI                              | NOI   | REC       | REC      | REC    | REC      | REC    |\n",
    "| 13th week  | REC                              | REC   | REC       | OPT      | HOM    | HOM      | HOM    |\n",
    "| 14th week  | May23 Homework 4 Submition       | OPT   | OPT       | OPT      | REP    | REP      | REP    |\n",
    "| 15th week  | May30 Final Project Presentation | FIN   | FIN       | FIN      | FIN    | FIN      | FIN    |\n",
    "\n",
    "**LIT**: Continuing the literature review and research\n",
    "**LAB**: Data labeling and classification\n",
    "**NOI**: Developing a model that removes background noise\n",
    "**REC**: Developing a model that recognize pieces\n",
    "**OPT**: Improvement and optimization work\n",
    "**REP**: Final checks and Reporting\n",
    "**MID**: Studying for Midterm Exams\n",
    "**HOM**: Working on homeworks\n",
    "**FIN**: Studying for Final Exams"
   ],
   "metadata": {
    "collapsed": false
   }
  },
  {
   "cell_type": "code",
   "execution_count": null,
   "outputs": [],
   "source": [],
   "metadata": {
    "collapsed": false,
    "pycharm": {
     "name": "#%%\n"
    }
   }
  }
 ],
 "metadata": {
  "kernelspec": {
   "display_name": "Python 3",
   "language": "python",
   "name": "python3"
  },
  "language_info": {
   "codemirror_mode": {
    "name": "ipython",
    "version": 2
   },
   "file_extension": ".py",
   "mimetype": "text/x-python",
   "name": "python",
   "nbconvert_exporter": "python",
   "pygments_lexer": "ipython2",
   "version": "2.7.6"
  }
 },
 "nbformat": 4,
 "nbformat_minor": 0
}
